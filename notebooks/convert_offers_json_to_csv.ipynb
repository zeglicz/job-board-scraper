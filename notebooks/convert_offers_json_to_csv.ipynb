{
 "cells": [
  {
   "cell_type": "markdown",
   "metadata": {
    "vscode": {
     "languageId": "plaintext"
    }
   },
   "source": [
    "# Convert Offers Json to CSV"
   ]
  },
  {
   "cell_type": "code",
   "execution_count": 2,
   "metadata": {},
   "outputs": [],
   "source": [
    "import re\n",
    "import json\n",
    "import pandas as pd  # type: ignore\n",
    "from pathlib import Path\n",
    "from datetime import datetime"
   ]
  },
  {
   "cell_type": "code",
   "execution_count": 3,
   "metadata": {},
   "outputs": [],
   "source": [
    "class JobOffersJsonToCsvConverter:\n",
    "    \"\"\"\n",
    "    Converts a directory of job offer JSON files to a single CSV file with one-hot encoded skills.\n",
    "\n",
    "    Args:\n",
    "        data_dir (str): Path to directory with JSON files.\n",
    "        output_csv (str): Path to output CSV file.\n",
    "    \"\"\"\n",
    "\n",
    "    def __init__(self, data_dir: str, output_csv: str):\n",
    "        self.data_dir = Path(data_dir)\n",
    "        self.output_csv = Path(output_csv)\n",
    "        self.raw_data = []\n",
    "        self.df = None\n",
    "\n",
    "    def run(self):\n",
    "        self.load_data()\n",
    "        if not self.raw_data:\n",
    "            return\n",
    "        self.to_dataframe()\n",
    "        self.save_to_csv()\n",
    "\n",
    "    def load_data(self):\n",
    "        if not self.data_dir.exists() or not self.data_dir.is_dir():\n",
    "            raise FileNotFoundError(f\"Data directory {self.data_dir} does not exist or is not a directory.\")\n",
    "        json_files = sorted(self.data_dir.glob(\"*.json\"))\n",
    "        if not json_files:\n",
    "            raise FileNotFoundError(f\"No JSON files found in {self.data_dir}\")\n",
    "        for file_path in json_files:\n",
    "            with open(file_path, \"r\", encoding=\"utf-8\") as f:\n",
    "                content = json.load(f)\n",
    "                offers = content.get(\"data\", [])\n",
    "                self.raw_data.extend(offers)\n",
    "\n",
    "    def to_dataframe(self):\n",
    "        records = [self._extract_record(offer) for offer in self.raw_data]\n",
    "        df = pd.DataFrame(records)\n",
    "        skill_set = self._extract_skills(df)\n",
    "        df = self._one_hot_encode_skills(df, skill_set)\n",
    "        self.df = df\n",
    "\n",
    "    def _extract_record(self, offer):\n",
    "        return {\n",
    "            \"slug\": offer.get(\"slug\"),\n",
    "            \"companyName\": offer.get(\"companyName\"),\n",
    "            \"title\": offer.get(\"title\"),\n",
    "            \"categoryId\": offer.get(\"categoryId\"),\n",
    "            \"requiredSkills\": offer.get(\"requiredSkills\"),\n",
    "            \"niceToHaveSkills\": offer.get(\"niceToHaveSkills\"),\n",
    "            \"workplaceType\": offer.get(\"workplaceType\"),\n",
    "            \"workingTime\": offer.get(\"workingTime\"),\n",
    "            \"experienceLevel\": offer.get(\"experienceLevel\"),\n",
    "            \"salaryFrom\": offer.get(\"employmentTypes\", [{}])[0].get(\"from\"),\n",
    "            \"salaryTo\": offer.get(\"employmentTypes\", [{}])[0].get(\"to\"),\n",
    "            \"salaryUnit\": offer.get(\"employmentTypes\", [{}])[0].get(\"unit\"),\n",
    "            \"salaryGross\": offer.get(\"employmentTypes\", [{}])[0].get(\"gross\"),\n",
    "            \"currency\": offer.get(\"employmentTypes\", [{}])[0].get(\"currency\"),\n",
    "            \"employmentType\": offer.get(\"employmentTypes\", [{}])[0].get(\"type\"),\n",
    "            \"city\": offer.get(\"city\"),\n",
    "            \"street\": offer.get(\"street\"),\n",
    "            \"latitude\": offer.get(\"latitude\"),\n",
    "            \"longitude\": offer.get(\"longitude\"),\n",
    "            \"multilocation\": offer.get(\"multilocation\"),\n",
    "            \"remoteInterview\": offer.get(\"remoteInterview\"),\n",
    "            \"openToHireUkrainians\": offer.get(\"openToHireUkrainians\"),\n",
    "            \"publishedAt\": offer.get(\"publishedAt\"),\n",
    "        }\n",
    "\n",
    "    def _extract_skills(self, df):\n",
    "        skills = set()\n",
    "        for skills_list in (\n",
    "            df[\"requiredSkills\"].dropna().tolist()\n",
    "            + df[\"niceToHaveSkills\"].dropna().tolist()\n",
    "        ):\n",
    "            skills.update(skills_list)\n",
    "        return skills\n",
    "\n",
    "    def _sanitize(self, skill_name):\n",
    "        return re.sub(r\"[^\\w]+\", \"_\", skill_name.strip())\n",
    "\n",
    "    def _one_hot_encode_skills(self, df, skills):\n",
    "        new_cols = {}\n",
    "        for skill in skills:\n",
    "            col_required = f\"requiredSkill_{self._sanitize(skill)}\"\n",
    "            col_nice = f\"niceToHaveSkill_{self._sanitize(skill)}\"\n",
    "            new_cols[col_required] = df[\"requiredSkills\"].apply(\n",
    "                lambda x: int(skill in x) if isinstance(x, list) else 0\n",
    "            )\n",
    "            new_cols[col_nice] = df[\"niceToHaveSkills\"].apply(\n",
    "                lambda x: int(skill in x) if isinstance(x, list) else 0\n",
    "            )\n",
    "        df = pd.concat([df, pd.DataFrame(new_cols)], axis=1)\n",
    "        return df.drop(columns=[\"requiredSkills\", \"niceToHaveSkills\"], errors=\"ignore\")\n",
    "\n",
    "    def save_to_csv(self):\n",
    "        self.output_csv.parent.mkdir(parents=True, exist_ok=True)\n",
    "        self.df.to_csv(self.output_csv, index=False)"
   ]
  },
  {
   "cell_type": "code",
   "execution_count": 4,
   "metadata": {},
   "outputs": [],
   "source": [
    "today_str = datetime.now().strftime(\"%Y-%m-%d\")\n",
    "output_path = f\"../data/processed/{today_str}-offers.csv\"\n",
    "\n",
    "converter = JobOffersJsonToCsvConverter(\n",
    "    data_dir=\"../data/raw/2025-06-24\",\n",
    "    output_csv=output_path,\n",
    ")\n",
    "\n",
    "converter.run()"
   ]
  },
  {
   "cell_type": "code",
   "execution_count": null,
   "metadata": {},
   "outputs": [],
   "source": []
  }
 ],
 "metadata": {
  "kernelspec": {
   "display_name": "job-board-scraper",
   "language": "python",
   "name": "python3"
  },
  "language_info": {
   "codemirror_mode": {
    "name": "ipython",
    "version": 3
   },
   "file_extension": ".py",
   "mimetype": "text/x-python",
   "name": "python",
   "nbconvert_exporter": "python",
   "pygments_lexer": "ipython3",
   "version": "3.11.13"
  }
 },
 "nbformat": 4,
 "nbformat_minor": 2
}
